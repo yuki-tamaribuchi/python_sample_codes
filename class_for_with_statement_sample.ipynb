{
  "nbformat": 4,
  "nbformat_minor": 0,
  "metadata": {
    "colab": {
      "name": "class_for_with_statement_sample.ipynb",
      "provenance": [],
      "authorship_tag": "ABX9TyPWNZePkkv3YkihyHld9ClX",
      "include_colab_link": true
    },
    "kernelspec": {
      "name": "python3",
      "display_name": "Python 3"
    },
    "language_info": {
      "name": "python"
    }
  },
  "cells": [
    {
      "cell_type": "markdown",
      "metadata": {
        "id": "view-in-github",
        "colab_type": "text"
      },
      "source": [
        "<a href=\"https://colab.research.google.com/github/yuki-tamaribuchi/python_sample_codes/blob/master/class_for_with_statement_sample.ipynb\" target=\"_parent\"><img src=\"https://colab.research.google.com/assets/colab-badge.svg\" alt=\"Open In Colab\"/></a>"
      ]
    },
    {
      "cell_type": "code",
      "metadata": {
        "id": "CsMZNMhQI4XX"
      },
      "source": [
        "class foo():\n",
        "\n",
        "  def __init__(self,a):\n",
        "    print('initialized')\n",
        "    self.param=a\n",
        "\n",
        "  def __enter__(self):\n",
        "    print('entered')\n",
        "\n",
        "\n",
        "  def print_param(self):\n",
        "    print(self.param)\n",
        "\n",
        "  def __exit__(self,exc_type,exc_value,tb):\n",
        "    print('exited')"
      ],
      "execution_count": 1,
      "outputs": []
    },
    {
      "cell_type": "code",
      "metadata": {
        "colab": {
          "base_uri": "https://localhost:8080/"
        },
        "id": "xCp_0ZFzNAYO",
        "outputId": "d917ba4c-ab2a-4b28-afd1-dabcb497afd8"
      },
      "source": [
        "f=foo('hello,world')\n",
        "\n",
        "with f:\n",
        "  f.print_param()"
      ],
      "execution_count": 2,
      "outputs": [
        {
          "output_type": "stream",
          "text": [
            "initialized\n",
            "entered\n",
            "hello,world\n",
            "exited\n"
          ],
          "name": "stdout"
        }
      ]
    }
  ]
}